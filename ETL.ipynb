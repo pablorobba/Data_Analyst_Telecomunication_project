{
 "cells": [
  {
   "cell_type": "markdown",
   "metadata": {},
   "source": [
    "# ETL process"
   ]
  },
  {
   "cell_type": "markdown",
   "metadata": {},
   "source": [
    "In this notebook we will load the data that we are using for the proyect, we are going to load them from the ENACOM's API"
   ]
  },
  {
   "cell_type": "markdown",
   "metadata": {},
   "source": [
    "## We import the libraries"
   ]
  },
  {
   "cell_type": "code",
   "execution_count": 42,
   "metadata": {},
   "outputs": [],
   "source": [
    "import requests"
   ]
  },
  {
   "cell_type": "markdown",
   "metadata": {},
   "source": [
    "## Load the datasets from the API"
   ]
  },
  {
   "cell_type": "markdown",
   "metadata": {},
   "source": [
    "We have several files, so we are going to download them from the API and save them in a csv"
   ]
  },
  {
   "cell_type": "code",
   "execution_count": 43,
   "metadata": {},
   "outputs": [],
   "source": [
    "api_url = \"https://api.datosabiertos.enacom.gob.ar/api/v2/datastreams/TOTAL-NACIO-DE-ACCES-48866/data.csv/?auth_key=8tnvdoLfiePCnZXOzxb8r7Y3xV9bLpXuKWujqWl5\"\n",
    "\n",
    "# Make the api request by the GET method\n",
    "response = requests.get(api_url)\n",
    "\n",
    "if response.status_code == 200:     #check if the answer is correct\n",
    "    \n",
    "    csv_filename = \"Datasets/national_internet_access.csv\"\n",
    "\n",
    "    # Save the content in a csv\n",
    "    with open(csv_filename, 'wb') as file:\n",
    "        file.write(response.content)\n",
    "else:\n",
    "    print(f\"Error at downloading the file: {response.status_code}\")\n"
   ]
  },
  {
   "cell_type": "markdown",
   "metadata": {},
   "source": [
    "Same process for all bellow:"
   ]
  },
  {
   "cell_type": "code",
   "execution_count": 44,
   "metadata": {},
   "outputs": [],
   "source": [
    "api_url = \"https://api.datosabiertos.enacom.gob.ar/api/v2/datastreams/BANDA-ANCHA-Y-BANDA-ANGOS/data.csv/?auth_key=8tnvdoLfiePCnZXOzxb8r7Y3xV9bLpXuKWujqWl5\"\n",
    "\n",
    "response = requests.get(api_url)\n",
    "\n",
    "if response.status_code == 200:    \n",
    "    csv_filename = \"Datasets/access_broadband_narrowband.csv\"\n",
    "    with open(csv_filename, 'wb') as file:\n",
    "        file.write(response.content)\n",
    "else:\n",
    "    print(f\"Error at downloading the file: {response.status_code}\")"
   ]
  },
  {
   "cell_type": "code",
   "execution_count": 45,
   "metadata": {},
   "outputs": [],
   "source": [
    "api_url = \"https://api.datosabiertos.enacom.gob.ar/api/v2/datastreams/ACCES-A-INTER-FIJO-POR/data.csv/?auth_key=8tnvdoLfiePCnZXOzxb8r7Y3xV9bLpXuKWujqWl5\"\n",
    "\n",
    "response = requests.get(api_url)\n",
    "\n",
    "if response.status_code == 200:    \n",
    "    csv_filename = \"Datasets/access_fixed_internet_byprovince.csv\"\n",
    "    with open(csv_filename, 'wb') as file:\n",
    "        file.write(response.content)\n",
    "else:\n",
    "    print(f\"Error at downloading the file: {response.status_code}\")"
   ]
  },
  {
   "cell_type": "code",
   "execution_count": 46,
   "metadata": {},
   "outputs": [],
   "source": [
    "api_url = \"https://api.datosabiertos.enacom.gob.ar/api/v2/datastreams/VELOC-PROME-DE-BAJAD-DE/data.csv/?auth_key=8tnvdoLfiePCnZXOzxb8r7Y3xV9bLpXuKWujqWl5\"\n",
    "\n",
    "response = requests.get(api_url)\n",
    "\n",
    "if response.status_code == 200:    \n",
    "    csv_filename = \"Datasets/dowload_speed_byprovince.csv\"\n",
    "    with open(csv_filename, 'wb') as file:\n",
    "        file.write(response.content)\n",
    "else:\n",
    "    print(f\"Error at downloading the file: {response.status_code}\")"
   ]
  },
  {
   "cell_type": "code",
   "execution_count": 47,
   "metadata": {},
   "outputs": [],
   "source": [
    "api_url = \"https://api.datosabiertos.enacom.gob.ar/api/v2/datastreams/ACCES-A-INTER-FIJO-23248/data.csv/?auth_key=8tnvdoLfiePCnZXOzxb8r7Y3xV9bLpXuKWujqWl5\"\n",
    "\n",
    "response = requests.get(api_url)\n",
    "\n",
    "if response.status_code == 200:    \n",
    "    csv_filename = \"Datasets/internet_access_byspeed_download1.csv\"\n",
    "    with open(csv_filename, 'wb') as file:\n",
    "        file.write(response.content)\n",
    "else:\n",
    "    print(f\"Error at downloading the file: {response.status_code}\")"
   ]
  },
  {
   "cell_type": "code",
   "execution_count": 48,
   "metadata": {},
   "outputs": [],
   "source": [
    "api_url = \"https://api.datosabiertos.enacom.gob.ar/api/v2/datastreams/ACCES-A-INTER-FIJO-97624/data.csv/?auth_key=8tnvdoLfiePCnZXOzxb8r7Y3xV9bLpXuKWujqWl5\"\n",
    "\n",
    "response = requests.get(api_url)\n",
    "\n",
    "if response.status_code == 200:    \n",
    "    csv_filename = \"Datasets/internet_access_byspeed_download2.csv\"\n",
    "    with open(csv_filename, 'wb') as file:\n",
    "        file.write(response.content)\n",
    "else:\n",
    "    print(f\"Error at downloading the file: {response.status_code}\")"
   ]
  },
  {
   "cell_type": "code",
   "execution_count": 49,
   "metadata": {},
   "outputs": [],
   "source": [
    "api_url = \"https://api.datosabiertos.enacom.gob.ar/api/v2/datastreams/ACCES-A-INTER-FIJO-16249/data.csv/?auth_key=8tnvdoLfiePCnZXOzxb8r7Y3xV9bLpXuKWujqWl5\"\n",
    "\n",
    "response = requests.get(api_url)\n",
    "\n",
    "if response.status_code == 200:   \n",
    "    csv_filename = \"Datasets/access_fixed_internet_by_dowload_local.csv\"\n",
    "    with open(csv_filename, 'wb') as file:\n",
    "        file.write(response.content)\n",
    "else:\n",
    "    print(f\"Error at downloading the file: {response.status_code}\")"
   ]
  },
  {
   "cell_type": "code",
   "execution_count": 50,
   "metadata": {},
   "outputs": [],
   "source": [
    "api_url = \"https://api.datosabiertos.enacom.gob.ar/api/v2/datastreams/ACCES-A-INTER-FIJO-62463/data.csv/?auth_key=8tnvdoLfiePCnZXOzxb8r7Y3xV9bLpXuKWujqWl5\"\n",
    "\n",
    "response = requests.get(api_url)\n",
    "\n",
    "if response.status_code == 200:    \n",
    "    csv_filename = \"Datasets/access_fixed_internet_by_tecnology_local.csv\"\n",
    "    with open(csv_filename, 'wb') as file:\n",
    "        file.write(response.content)\n",
    "else:\n",
    "    print(f\"Error at downloading the file: {response.status_code}\")"
   ]
  },
  {
   "cell_type": "code",
   "execution_count": 51,
   "metadata": {},
   "outputs": [],
   "source": [
    "api_url = \"https://api.datosabiertos.enacom.gob.ar/api/v2/datastreams/LISTA-DE-LOCAL-CON-CONEC/data.csv/?auth_key=8tnvdoLfiePCnZXOzxb8r7Y3xV9bLpXuKWujqWl5\"\n",
    "\n",
    "response = requests.get(api_url)\n",
    "\n",
    "if response.status_code == 200:    \n",
    "    csv_filename = \"Datasets/localities_internet_access.csv\"\n",
    "    with open(csv_filename, 'wb') as file:\n",
    "        file.write(response.content)\n",
    "else:\n",
    "    print(f\"Error at downloading the file: {response.status_code}\")"
   ]
  },
  {
   "cell_type": "code",
   "execution_count": 58,
   "metadata": {},
   "outputs": [],
   "source": [
    "api_url = \"https://datosabiertos.enacom.gob.ar/rest/datastreams/291794/data.csv\"\n",
    "\n",
    "response = requests.get(api_url)\n",
    "\n",
    "if response.status_code == 200:    \n",
    "    csv_filename = \"Datasets/internet_penetration.csv\"\n",
    "    with open(csv_filename, 'wb') as file:\n",
    "        file.write(response.content)\n",
    "else:\n",
    "    print(f\"Error at downloading the file: {response.status_code}\")"
   ]
  },
  {
   "cell_type": "code",
   "execution_count": 59,
   "metadata": {},
   "outputs": [],
   "source": [
    "api_url = \"https://datosabiertos.enacom.gob.ar/rest/datastreams/291793/data.csv\"\n",
    "\n",
    "response = requests.get(api_url)\n",
    "\n",
    "if response.status_code == 200:    \n",
    "    csv_filename = \"Datasets/penetration_by_national_home.csv\"\n",
    "    with open(csv_filename, 'wb') as file:\n",
    "        file.write(response.content)\n",
    "else:\n",
    "    print(f\"Error at downloading the file: {response.status_code}\")"
   ]
  },
  {
   "cell_type": "code",
   "execution_count": 60,
   "metadata": {},
   "outputs": [],
   "source": [
    "api_url = \"https://datosabiertos.enacom.gob.ar/rest/datastreams/275029/data.csv\"\n",
    "\n",
    "response = requests.get(api_url)\n",
    "\n",
    "if response.status_code == 200:    \n",
    "    csv_filename = \"Datasets/fixed_internet_by_tech.csv\"\n",
    "    with open(csv_filename, 'wb') as file:\n",
    "        file.write(response.content)\n",
    "else:\n",
    "    print(f\"Error at downloading the file: {response.status_code}\")"
   ]
  },
  {
   "cell_type": "code",
   "execution_count": 14,
   "metadata": {},
   "outputs": [],
   "source": [
    "api_url = \"https://api.datosabiertos.enacom.gob.ar/api/v2/datastreams/VELOC-PROME-DE-BAJAD-DE/data.csv/?auth_key=8tnvdoLfiePCnZXOzxb8r7Y3xV9bLpXuKWujqWl5\"\n",
    "\n",
    "response = requests.get(api_url)\n",
    "\n",
    "if response.status_code == 200:    \n",
    "    csv_filename = \"Datasets/median_download_fixed_internet.csv\"\n",
    "    with open(csv_filename, 'wb') as file:\n",
    "        file.write(response.content)\n",
    "else:\n",
    "    print(f\"Error at downloading the file: {response.status_code}\")"
   ]
  },
  {
   "cell_type": "code",
   "execution_count": 61,
   "metadata": {},
   "outputs": [],
   "source": [
    "api_url = \"https://datosabiertos.enacom.gob.ar/rest/datastreams/291791/data.csv\"\n",
    "\n",
    "response = requests.get(api_url)\n",
    "\n",
    "if response.status_code == 200:    \n",
    "    csv_filename = \"Datasets/national_access_by_fixed_internet.csv\"\n",
    "    with open(csv_filename, 'wb') as file:\n",
    "        file.write(response.content)\n",
    "else:\n",
    "    print(f\"Error at downloading the file: {response.status_code}\")"
   ]
  },
  {
   "cell_type": "code",
   "execution_count": 16,
   "metadata": {},
   "outputs": [],
   "source": [
    "api_url = \"https://api.datosabiertos.enacom.gob.ar/api/v2/datastreams/INGRE-TRIME-POR-LA-PREST/data.csv/?auth_key=8tnvdoLfiePCnZXOzxb8r7Y3xV9bLpXuKWujqWl5\"\n",
    "\n",
    "response = requests.get(api_url)\n",
    "\n",
    "if response.status_code == 200:    \n",
    "    csv_filename = \"Datasets/profits_trimestrer_fixed_internet.csv\"\n",
    "    with open(csv_filename, 'wb') as file:\n",
    "        file.write(response.content)\n",
    "else:\n",
    "    print(f\"Error at downloading the file: {response.status_code}\")"
   ]
  },
  {
   "cell_type": "code",
   "execution_count": null,
   "metadata": {},
   "outputs": [],
   "source": [
    "api_url = \"https://api.datosabiertos.enacom.gob.ar/api/v2/datastreams/TOTAL-NACIO-DE-ACCES-48866/data.csv/?auth_key=8tnvdoLfiePCnZXOzxb8r7Y3xV9bLpXuKWujqWl5\"\n",
    "\n",
    "# Make the api request by the GET method\n",
    "response = requests.get(api_url)\n",
    "\n",
    "if response.status_code == 200:     #check if the answer is correct\n",
    "    \n",
    "    csv_filename = \"Datasets/national_internet_access.csv\"\n",
    "\n",
    "    # Save the content in a csv\n",
    "    with open(csv_filename, 'wb') as file:\n",
    "        file.write(response.content)\n",
    "else:\n",
    "    print(f\"Error at downloading the file: {response.status_code}\")"
   ]
  }
 ],
 "metadata": {
  "kernelspec": {
   "display_name": "Data_Analyst",
   "language": "python",
   "name": "python3"
  },
  "language_info": {
   "codemirror_mode": {
    "name": "ipython",
    "version": 3
   },
   "file_extension": ".py",
   "mimetype": "text/x-python",
   "name": "python",
   "nbconvert_exporter": "python",
   "pygments_lexer": "ipython3",
   "version": "3.11.0"
  }
 },
 "nbformat": 4,
 "nbformat_minor": 2
}
