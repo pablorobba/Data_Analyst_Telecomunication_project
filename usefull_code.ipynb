{
 "cells": [
  {
   "cell_type": "code",
   "execution_count": null,
   "metadata": {},
   "outputs": [],
   "source": [
    "import pandas as pd\n",
    "\n",
    "# Cargar tu DataFrame o crearlo\n",
    "# df = ...\n",
    "\n",
    "# Definir la columna en la que deseas identificar outliers\n",
    "columna = 'mi_columna'\n",
    "\n",
    "# Calcular el primer cuartil (Q1) y el tercer cuartil (Q3)\n",
    "Q1 = df[columna].quantile(0.25)\n",
    "Q3 = df[columna].quantile(0.75)\n",
    "\n",
    "# Calcular el rango intercuartílico (IQR)\n",
    "IQR = Q3 - Q1\n",
    "\n",
    "# Definir un umbral para identificar outliers (por ejemplo, 1.5 veces el IQR)\n",
    "umbral_superior = Q3 + 1.5 * IQR\n",
    "umbral_inferior = Q1 - 1.5 * IQR\n",
    "\n",
    "# Identificar los outliers en la columna\n",
    "outliers = df[(df[columna] < umbral_inferior) | (df[columna] > umbral_superior)]"
   ]
  }
 ],
 "metadata": {
  "language_info": {
   "name": "python"
  }
 },
 "nbformat": 4,
 "nbformat_minor": 2
}
