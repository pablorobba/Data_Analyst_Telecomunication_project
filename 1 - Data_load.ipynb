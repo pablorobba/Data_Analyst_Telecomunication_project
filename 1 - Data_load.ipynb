{
 "cells": [
  {
   "cell_type": "markdown",
   "metadata": {},
   "source": [
    "# ETL process"
   ]
  },
  {
   "cell_type": "markdown",
   "metadata": {},
   "source": [
    "In this notebook we will load the data that we are using for the proyect, we are going to load them from the ENACOM's API"
   ]
  },
  {
   "cell_type": "markdown",
   "metadata": {},
   "source": [
    "## We import the libraries"
   ]
  },
  {
   "cell_type": "code",
   "execution_count": 1,
   "metadata": {},
   "outputs": [],
   "source": [
    "import requests\n",
    "import json"
   ]
  },
  {
   "cell_type": "markdown",
   "metadata": {},
   "source": [
    "## Load the datasets from the API"
   ]
  },
  {
   "cell_type": "markdown",
   "metadata": {},
   "source": [
    "We have several files, so we are going to download them from the API and save them in a csv. First the fronpage's datasets"
   ]
  },
  {
   "cell_type": "code",
   "execution_count": 2,
   "metadata": {},
   "outputs": [],
   "source": [
    "api_url = \"https://api.datosabiertos.enacom.gob.ar/api/v2/datastreams/TOTAL-NACIO-DE-ACCES-48866/data.csv/?auth_key=8tnvdoLfiePCnZXOzxb8r7Y3xV9bLpXuKWujqWl5\"\n",
    "\n",
    "# Make the api request by the GET method\n",
    "response = requests.get(api_url)\n",
    "\n",
    "if response.status_code == 200:     #check if the answer is correct\n",
    "    \n",
    "    csv_filename = \"Page_Datasets/national_internet_access.csv\"\n",
    "\n",
    "    # Save the content in a csv\n",
    "    with open(csv_filename, 'wb') as file:\n",
    "        file.write(response.content)\n",
    "else:\n",
    "    print(f\"Error at downloading the file: {response.status_code}\")\n"
   ]
  },
  {
   "cell_type": "markdown",
   "metadata": {},
   "source": [
    "Same process for all bellow:"
   ]
  },
  {
   "cell_type": "code",
   "execution_count": 3,
   "metadata": {},
   "outputs": [],
   "source": [
    "api_url = \"https://api.datosabiertos.enacom.gob.ar/api/v2/datastreams/BANDA-ANCHA-Y-BANDA-ANGOS/data.csv/?auth_key=8tnvdoLfiePCnZXOzxb8r7Y3xV9bLpXuKWujqWl5\"\n",
    "\n",
    "response = requests.get(api_url)\n",
    "\n",
    "if response.status_code == 200:    \n",
    "    csv_filename = \"Page_Datasets/access_broadband_narrowband.csv\"\n",
    "    with open(csv_filename, 'wb') as file:\n",
    "        file.write(response.content)\n",
    "else:\n",
    "    print(f\"Error at downloading the file: {response.status_code}\")"
   ]
  },
  {
   "cell_type": "code",
   "execution_count": 4,
   "metadata": {},
   "outputs": [],
   "source": [
    "api_url = \"https://api.datosabiertos.enacom.gob.ar/api/v2/datastreams/ACCES-A-INTER-FIJO-POR/data.csv/?auth_key=8tnvdoLfiePCnZXOzxb8r7Y3xV9bLpXuKWujqWl5\"\n",
    "\n",
    "response = requests.get(api_url)\n",
    "\n",
    "if response.status_code == 200:    \n",
    "    csv_filename = \"Page_Datasets/access_fixed_internet_byprovince.csv\"\n",
    "    with open(csv_filename, 'wb') as file:\n",
    "        file.write(response.content)\n",
    "else:\n",
    "    print(f\"Error at downloading the file: {response.status_code}\")"
   ]
  },
  {
   "cell_type": "code",
   "execution_count": 5,
   "metadata": {},
   "outputs": [],
   "source": [
    "api_url = \"https://api.datosabiertos.enacom.gob.ar/api/v2/datastreams/VELOC-PROME-DE-BAJAD-DE/data.csv/?auth_key=8tnvdoLfiePCnZXOzxb8r7Y3xV9bLpXuKWujqWl5\"\n",
    "\n",
    "response = requests.get(api_url)\n",
    "\n",
    "if response.status_code == 200:    \n",
    "    csv_filename = \"Page_Datasets/dowload_speed_byprovince.csv\"\n",
    "    with open(csv_filename, 'wb') as file:\n",
    "        file.write(response.content)\n",
    "else:\n",
    "    print(f\"Error at downloading the file: {response.status_code}\")"
   ]
  },
  {
   "cell_type": "code",
   "execution_count": 6,
   "metadata": {},
   "outputs": [],
   "source": [
    "api_url = \"https://api.datosabiertos.enacom.gob.ar/api/v2/datastreams/ACCES-A-INTER-FIJO-23248/data.csv/?auth_key=8tnvdoLfiePCnZXOzxb8r7Y3xV9bLpXuKWujqWl5\"\n",
    "\n",
    "response = requests.get(api_url)\n",
    "\n",
    "if response.status_code == 200:    \n",
    "    csv_filename = \"Page_Datasets/internet_access_byspeed_download1.csv\"\n",
    "    with open(csv_filename, 'wb') as file:\n",
    "        file.write(response.content)\n",
    "else:\n",
    "    print(f\"Error at downloading the file: {response.status_code}\")"
   ]
  },
  {
   "cell_type": "code",
   "execution_count": 7,
   "metadata": {},
   "outputs": [],
   "source": [
    "api_url = \"https://api.datosabiertos.enacom.gob.ar/api/v2/datastreams/ACCES-A-INTER-FIJO-97624/data.csv/?auth_key=8tnvdoLfiePCnZXOzxb8r7Y3xV9bLpXuKWujqWl5\"\n",
    "\n",
    "response = requests.get(api_url)\n",
    "\n",
    "if response.status_code == 200:    \n",
    "    csv_filename = \"Page_Datasets/internet_access_byspeed_download2.csv\"\n",
    "    with open(csv_filename, 'wb') as file:\n",
    "        file.write(response.content)\n",
    "else:\n",
    "    print(f\"Error at downloading the file: {response.status_code}\")"
   ]
  },
  {
   "cell_type": "code",
   "execution_count": 8,
   "metadata": {},
   "outputs": [],
   "source": [
    "api_url = \"https://api.datosabiertos.enacom.gob.ar/api/v2/datastreams/ACCES-A-INTER-FIJO-16249/data.csv/?auth_key=8tnvdoLfiePCnZXOzxb8r7Y3xV9bLpXuKWujqWl5\"\n",
    "\n",
    "response = requests.get(api_url)\n",
    "\n",
    "if response.status_code == 200:   \n",
    "    csv_filename = \"Page_Datasets/access_fixed_internet_by_dowload_local.csv\"\n",
    "    with open(csv_filename, 'wb') as file:\n",
    "        file.write(response.content)\n",
    "else:\n",
    "    print(f\"Error at downloading the file: {response.status_code}\")"
   ]
  },
  {
   "cell_type": "code",
   "execution_count": 9,
   "metadata": {},
   "outputs": [],
   "source": [
    "api_url = \"https://api.datosabiertos.enacom.gob.ar/api/v2/datastreams/ACCES-A-INTER-FIJO-62463/data.csv/?auth_key=8tnvdoLfiePCnZXOzxb8r7Y3xV9bLpXuKWujqWl5\"\n",
    "\n",
    "response = requests.get(api_url)\n",
    "\n",
    "if response.status_code == 200:    \n",
    "    csv_filename = \"Page_Datasets/access_fixed_internet_by_tecnology_local.csv\"\n",
    "    with open(csv_filename, 'wb') as file:\n",
    "        file.write(response.content)\n",
    "else:\n",
    "    print(f\"Error at downloading the file: {response.status_code}\")"
   ]
  },
  {
   "cell_type": "code",
   "execution_count": 10,
   "metadata": {},
   "outputs": [],
   "source": [
    "api_url = \"https://api.datosabiertos.enacom.gob.ar/api/v2/datastreams/LISTA-DE-LOCAL-CON-CONEC/data.csv/?auth_key=8tnvdoLfiePCnZXOzxb8r7Y3xV9bLpXuKWujqWl5\"\n",
    "\n",
    "response = requests.get(api_url)\n",
    "\n",
    "if response.status_code == 200:    \n",
    "    csv_filename = \"Page_Datasets/localities_internet_access.csv\"\n",
    "    with open(csv_filename, 'wb') as file:\n",
    "        file.write(response.content)\n",
    "else:\n",
    "    print(f\"Error at downloading the file: {response.status_code}\")"
   ]
  },
  {
   "cell_type": "code",
   "execution_count": 11,
   "metadata": {},
   "outputs": [],
   "source": [
    "api_url = \"https://datosabiertos.enacom.gob.ar/rest/datastreams/291794/data.csv\"\n",
    "\n",
    "response = requests.get(api_url)\n",
    "\n",
    "if response.status_code == 200:    \n",
    "    csv_filename = \"Page_Datasets/internet_penetration.csv\"\n",
    "    with open(csv_filename, 'wb') as file:\n",
    "        file.write(response.content)\n",
    "else:\n",
    "    print(f\"Error at downloading the file: {response.status_code}\")"
   ]
  },
  {
   "cell_type": "code",
   "execution_count": 12,
   "metadata": {},
   "outputs": [],
   "source": [
    "api_url = \"https://datosabiertos.enacom.gob.ar/rest/datastreams/291793/data.csv\"\n",
    "\n",
    "response = requests.get(api_url)\n",
    "\n",
    "if response.status_code == 200:    \n",
    "    csv_filename = \"Page_Datasets/penetration_by_national_home.csv\"\n",
    "    with open(csv_filename, 'wb') as file:\n",
    "        file.write(response.content)\n",
    "else:\n",
    "    print(f\"Error at downloading the file: {response.status_code}\")"
   ]
  },
  {
   "cell_type": "code",
   "execution_count": 13,
   "metadata": {},
   "outputs": [],
   "source": [
    "api_url = \"https://datosabiertos.enacom.gob.ar/rest/datastreams/275029/data.csv\"\n",
    "\n",
    "response = requests.get(api_url)\n",
    "\n",
    "if response.status_code == 200:    \n",
    "    csv_filename = \"Page_Datasets/fixed_internet_by_tech.csv\"\n",
    "    with open(csv_filename, 'wb') as file:\n",
    "        file.write(response.content)\n",
    "else:\n",
    "    print(f\"Error at downloading the file: {response.status_code}\")"
   ]
  },
  {
   "cell_type": "code",
   "execution_count": 14,
   "metadata": {},
   "outputs": [],
   "source": [
    "api_url = \"https://api.datosabiertos.enacom.gob.ar/api/v2/datastreams/VELOC-PROME-DE-BAJAD-DE/data.csv/?auth_key=8tnvdoLfiePCnZXOzxb8r7Y3xV9bLpXuKWujqWl5\"\n",
    "\n",
    "response = requests.get(api_url)\n",
    "\n",
    "if response.status_code == 200:    \n",
    "    csv_filename = \"Page_Datasets/median_download_fixed_internet.csv\"\n",
    "    with open(csv_filename, 'wb') as file:\n",
    "        file.write(response.content)\n",
    "else:\n",
    "    print(f\"Error at downloading the file: {response.status_code}\")"
   ]
  },
  {
   "cell_type": "code",
   "execution_count": 15,
   "metadata": {},
   "outputs": [],
   "source": [
    "api_url = \"https://datosabiertos.enacom.gob.ar/rest/datastreams/291791/data.csv\"\n",
    "\n",
    "response = requests.get(api_url)\n",
    "\n",
    "if response.status_code == 200:    \n",
    "    csv_filename = \"Page_Datasets/national_access_by_fixed_internet.csv\"\n",
    "    with open(csv_filename, 'wb') as file:\n",
    "        file.write(response.content)\n",
    "else:\n",
    "    print(f\"Error at downloading the file: {response.status_code}\")"
   ]
  },
  {
   "cell_type": "code",
   "execution_count": 16,
   "metadata": {},
   "outputs": [],
   "source": [
    "api_url = \"https://api.datosabiertos.enacom.gob.ar/api/v2/datastreams/INGRE-TRIME-POR-LA-PREST/data.csv/?auth_key=8tnvdoLfiePCnZXOzxb8r7Y3xV9bLpXuKWujqWl5\"\n",
    "\n",
    "response = requests.get(api_url)\n",
    "\n",
    "if response.status_code == 200:    \n",
    "    csv_filename = \"Page_Datasets/profits_trimestrer_fixed_internet.csv\"\n",
    "    with open(csv_filename, 'wb') as file:\n",
    "        file.write(response.content)\n",
    "else:\n",
    "    print(f\"Error at downloading the file: {response.status_code}\")"
   ]
  },
  {
   "cell_type": "code",
   "execution_count": 17,
   "metadata": {},
   "outputs": [],
   "source": [
    "api_url = \"https://api.datosabiertos.enacom.gob.ar/api/v2/datastreams/TOTAL-NACIO-DE-ACCES-48866/data.csv/?auth_key=8tnvdoLfiePCnZXOzxb8r7Y3xV9bLpXuKWujqWl5\"\n",
    "\n",
    "# Make the api request by the GET method\n",
    "response = requests.get(api_url)\n",
    "\n",
    "if response.status_code == 200:     #check if the answer is correct\n",
    "    \n",
    "    csv_filename = \"Page_Datasets/national_internet_access.csv\"\n",
    "\n",
    "    # Save the content in a csv\n",
    "    with open(csv_filename, 'wb') as file:\n",
    "        file.write(response.content)\n",
    "else:\n",
    "    print(f\"Error at downloading the file: {response.status_code}\")"
   ]
  },
  {
   "cell_type": "markdown",
   "metadata": {},
   "source": [
    "Now the source Dataframes"
   ]
  },
  {
   "cell_type": "code",
   "execution_count": 32,
   "metadata": {},
   "outputs": [
    {
     "name": "stdout",
     "output_type": "stream",
     "text": [
      "The XLSX archive was downloaded and saved\n"
     ]
    }
   ],
   "source": [
    "link = \"https://api.datosabiertos.enacom.gob.ar/api/v2/datasets/PENET-DEL-SERVI-DE-INTER/?auth_key=8tnvdoLfiePCnZXOzxb8r7Y3xV9bLpXuKWujqWl5\"\n",
    "response = requests.get(link)\n",
    "\n",
    "if response.status_code == 200:\n",
    "    #Decode the response in a JSON in a dictionary\n",
    "    data = json.loads(response.content)\n",
    "    \n",
    "    #Get the link\n",
    "    download_url = data['download_url']\n",
    "    \n",
    "    #Get the request \n",
    "    response_xlsx = requests.get(download_url)\n",
    "    \n",
    "    if response_xlsx.status_code == 200:\n",
    "        #Save the conquent\n",
    "        with open(\"Source_Datasets/internet_penetration.xlsx\", \"wb\") as f:\n",
    "            f.write(response_xlsx.content)            \n",
    "        print(\"The XLSX archive was downloaded and saved\")\n",
    "    else:\n",
    "        print(\"Error at downloading the file:\", response_xlsx.status_code)\n",
    "else:\n",
    "    print(\"Request error:\", response.status_code)"
   ]
  },
  {
   "cell_type": "code",
   "execution_count": 20,
   "metadata": {},
   "outputs": [
    {
     "name": "stdout",
     "output_type": "stream",
     "text": [
      "The XLSX archive was downloaded and saved\n"
     ]
    }
   ],
   "source": [
    "link = \"https://api.datosabiertos.enacom.gob.ar/api/v2/datasets/ACCES-A-INTER-FIJO-51042/?auth_key=8tnvdoLfiePCnZXOzxb8r7Y3xV9bLpXuKWujqWl5\"\n",
    "response = requests.get(link)\n",
    "\n",
    "if response.status_code == 200:\n",
    "    #Decode the response in a JSON in a dictionary\n",
    "    data = json.loads(response.content)\n",
    "    \n",
    "    #Get the link\n",
    "    download_url = data['download_url']\n",
    "    \n",
    "    #Get the request \n",
    "    response_xlsx = requests.get(download_url)\n",
    "    \n",
    "    if response_xlsx.status_code == 200:\n",
    "        #Save the conquent\n",
    "        with open(\"Source_Datasets/internet_access_by_speed.xlsx\", \"wb\") as f:\n",
    "            f.write(response_xlsx.content)            \n",
    "        print(\"The XLSX archive was downloaded and saved\")\n",
    "    else:\n",
    "        print(\"Error at downloading the file:\", response_xlsx.status_code)\n",
    "else:\n",
    "    print(\"Request error:\", response.status_code)"
   ]
  },
  {
   "cell_type": "code",
   "execution_count": 21,
   "metadata": {},
   "outputs": [
    {
     "name": "stdout",
     "output_type": "stream",
     "text": [
      "The XLSX archive was downloaded and saved\n"
     ]
    }
   ],
   "source": [
    "link = \"https://api.datosabiertos.enacom.gob.ar/api/v2/datasets/ACCES-POR-VELOC-DE-DESCA/?auth_key=8tnvdoLfiePCnZXOzxb8r7Y3xV9bLpXuKWujqWl5\"\n",
    "response = requests.get(link)\n",
    "\n",
    "if response.status_code == 200:\n",
    "    #Decode the response in a JSON in a dictionary\n",
    "    data = json.loads(response.content)\n",
    "    \n",
    "    #Get the link\n",
    "    download_url = data['download_url']\n",
    "    \n",
    "    #Get the request \n",
    "    response_xlsx = requests.get(download_url)\n",
    "    \n",
    "    if response_xlsx.status_code == 200:\n",
    "        #Save the conquent\n",
    "        with open(\"Source_Datasets/internet_access_by_speed_province.xlsx\", \"wb\") as f:\n",
    "            f.write(response_xlsx.content)            \n",
    "        print(\"The XLSX archive was downloaded and saved\")\n",
    "    else:\n",
    "        print(\"Error at downloading the file:\", response_xlsx.status_code)\n",
    "else:\n",
    "    print(\"Request error:\", response.status_code)"
   ]
  },
  {
   "cell_type": "code",
   "execution_count": 22,
   "metadata": {},
   "outputs": [
    {
     "name": "stdout",
     "output_type": "stream",
     "text": [
      "The XLSX archive was downloaded and saved\n"
     ]
    }
   ],
   "source": [
    "link = \"https://api.datosabiertos.enacom.gob.ar/api/v2/datasets/ACCES-A-INTER-FIJO-POR/?auth_key=8tnvdoLfiePCnZXOzxb8r7Y3xV9bLpXuKWujqWl5\"\n",
    "response = requests.get(link)\n",
    "\n",
    "if response.status_code == 200:\n",
    "    #Decode the response in a JSON in a dictionary\n",
    "    data = json.loads(response.content)\n",
    "    \n",
    "    #Get the link\n",
    "    download_url = data['download_url']\n",
    "    \n",
    "    #Get the request \n",
    "    response_xlsx = requests.get(download_url)\n",
    "    \n",
    "    if response_xlsx.status_code == 200:\n",
    "        #Save the conquent\n",
    "        with open(\"Source_Datasets/internet_access_by_tech.xlsx\", \"wb\") as f:\n",
    "            f.write(response_xlsx.content)            \n",
    "        print(\"The XLSX archive was downloaded and saved\")\n",
    "    else:\n",
    "        print(\"Error at downloading the file:\", response_xlsx.status_code)\n",
    "else:\n",
    "    print(\"Request error:\", response.status_code)"
   ]
  },
  {
   "cell_type": "code",
   "execution_count": 23,
   "metadata": {},
   "outputs": [
    {
     "name": "stdout",
     "output_type": "stream",
     "text": [
      "The XLSX archive was downloaded and saved\n"
     ]
    }
   ],
   "source": [
    "link = \"https://api.datosabiertos.enacom.gob.ar/api/v2/datasets/INGRE-POR-LA-OPERA-DEL/?auth_key=8tnvdoLfiePCnZXOzxb8r7Y3xV9bLpXuKWujqWl5\"\n",
    "response = requests.get(link)\n",
    "\n",
    "if response.status_code == 200:\n",
    "    #Decode the response in a JSON in a dictionary\n",
    "    data = json.loads(response.content)\n",
    "    \n",
    "    #Get the link\n",
    "    download_url = data['download_url']\n",
    "    \n",
    "    #Get the request \n",
    "    response_xlsx = requests.get(download_url)\n",
    "    \n",
    "    if response_xlsx.status_code == 200:\n",
    "        #Save the conquent\n",
    "        with open(\"Source_Datasets/internet_gains.xlsx\", \"wb\") as f:\n",
    "            f.write(response_xlsx.content)            \n",
    "        print(\"The XLSX archive was downloaded and saved\")\n",
    "    else:\n",
    "        print(\"Error at downloading the file:\", response_xlsx.status_code)\n",
    "else:\n",
    "    print(\"Request error:\", response.status_code)"
   ]
  },
  {
   "cell_type": "code",
   "execution_count": 25,
   "metadata": {},
   "outputs": [
    {
     "name": "stdout",
     "output_type": "stream",
     "text": [
      "The XLSX archive was downloaded and saved\n"
     ]
    }
   ],
   "source": [
    "link = \"https://api.datosabiertos.enacom.gob.ar/api/v2/datasets/ACCES-A-INTER-FIJO-86398/?auth_key=8tnvdoLfiePCnZXOzxb8r7Y3xV9bLpXuKWujqWl5\"\n",
    "response = requests.get(link)\n",
    "\n",
    "if response.status_code == 200:\n",
    "    #Decode the response in a JSON in a dictionary\n",
    "    data = json.loads(response.content)\n",
    "    \n",
    "    #Get the link\n",
    "    download_url = data['download_url']\n",
    "    \n",
    "    #Get the request \n",
    "    response_xlsx = requests.get(download_url)\n",
    "    \n",
    "    if response_xlsx.status_code == 200:\n",
    "        #Save the conquent\n",
    "        with open(\"Source_Datasets/internet_access_by_speed_local.xlsx\", \"wb\") as f:\n",
    "            f.write(response_xlsx.content)            \n",
    "        print(\"The XLSX archive was downloaded and saved\")\n",
    "    else:\n",
    "        print(\"Error at downloading the file:\", response_xlsx.status_code)\n",
    "else:\n",
    "    print(\"Request error:\", response.status_code)"
   ]
  },
  {
   "cell_type": "code",
   "execution_count": 26,
   "metadata": {},
   "outputs": [
    {
     "name": "stdout",
     "output_type": "stream",
     "text": [
      "The XLSX archive was downloaded and saved\n"
     ]
    }
   ],
   "source": [
    "link = \"https://api.datosabiertos.enacom.gob.ar/api/v2/datasets/ACCES-A-INTER-FIJO-46973/?auth_key=8tnvdoLfiePCnZXOzxb8r7Y3xV9bLpXuKWujqWl5\"\n",
    "response = requests.get(link)\n",
    "\n",
    "if response.status_code == 200:\n",
    "    #Decode the response in a JSON in a dictionary\n",
    "    data = json.loads(response.content)\n",
    "    \n",
    "    #Get the link\n",
    "    download_url = data['download_url']\n",
    "    \n",
    "    #Get the request \n",
    "    response_xlsx = requests.get(download_url)\n",
    "    \n",
    "    if response_xlsx.status_code == 200:\n",
    "        #Save the conquent\n",
    "        with open(\"Source_Datasets/internet_access_by_tech_local.xlsx\", \"wb\") as f:\n",
    "            f.write(response_xlsx.content)            \n",
    "        print(\"The XLSX archive was downloaded and saved\")\n",
    "    else:\n",
    "        print(\"Error at downloading the file:\", response_xlsx.status_code)\n",
    "else:\n",
    "    print(\"Request error:\", response.status_code)"
   ]
  },
  {
   "cell_type": "code",
   "execution_count": 27,
   "metadata": {},
   "outputs": [
    {
     "name": "stdout",
     "output_type": "stream",
     "text": [
      "The XLSX archive was downloaded and saved\n"
     ]
    }
   ],
   "source": [
    "link = \"https://api.datosabiertos.enacom.gob.ar/api/v2/datasets/VELOC-PROME-DE-BAJAD-DE/?auth_key=8tnvdoLfiePCnZXOzxb8r7Y3xV9bLpXuKWujqWl5\"\n",
    "response = requests.get(link)\n",
    "\n",
    "if response.status_code == 200:\n",
    "    #Decode the response in a JSON in a dictionary\n",
    "    data = json.loads(response.content)\n",
    "    \n",
    "    #Get the link\n",
    "    download_url = data['download_url']\n",
    "    \n",
    "    #Get the request \n",
    "    response_xlsx = requests.get(download_url)\n",
    "    \n",
    "    if response_xlsx.status_code == 200:\n",
    "        #Save the conquent\n",
    "        with open(\"Source_Datasets/internet_speed_hist.xlsx\", \"wb\") as f:\n",
    "            f.write(response_xlsx.content)            \n",
    "        print(\"The XLSX archive was downloaded and saved\")\n",
    "    else:\n",
    "        print(\"Error at downloading the file:\", response_xlsx.status_code)\n",
    "else:\n",
    "    print(\"Request error:\", response.status_code)"
   ]
  },
  {
   "cell_type": "code",
   "execution_count": 31,
   "metadata": {},
   "outputs": [
    {
     "name": "stdout",
     "output_type": "stream",
     "text": [
      "The XLSX archive was downloaded and saved\n"
     ]
    }
   ],
   "source": [
    "link = \"https://api.datosabiertos.enacom.gob.ar/api/v2/datasets/CONEC-AL-SERVI-DE-INTER/?auth_key=8tnvdoLfiePCnZXOzxb8r7Y3xV9bLpXuKWujqWl5\"\n",
    "response = requests.get(link)\n",
    "\n",
    "if response.status_code == 200:\n",
    "    #Decode the response in a JSON in a dictionary\n",
    "    data = json.loads(response.content)\n",
    "    \n",
    "    #Get the link\n",
    "    download_url = data['download_url']\n",
    "    \n",
    "    #Get the request \n",
    "    response_xlsx = requests.get(download_url)\n",
    "    \n",
    "    if response_xlsx.status_code == 200:\n",
    "        #Save the conquent\n",
    "        with open(\"Source_Datasets/internet_conect_map.xlsx\", \"wb\") as f:\n",
    "            f.write(response_xlsx.content)            \n",
    "        print(\"The XLSX archive was downloaded and saved\")\n",
    "    else:\n",
    "        print(\"Error at downloading the file:\", response_xlsx.status_code)\n",
    "else:\n",
    "    print(\"Request error:\", response.status_code)"
   ]
  }
 ],
 "metadata": {
  "kernelspec": {
   "display_name": "Data_Analyst",
   "language": "python",
   "name": "python3"
  },
  "language_info": {
   "codemirror_mode": {
    "name": "ipython",
    "version": 3
   },
   "file_extension": ".py",
   "mimetype": "text/x-python",
   "name": "python",
   "nbconvert_exporter": "python",
   "pygments_lexer": "ipython3",
   "version": "3.11.0"
  }
 },
 "nbformat": 4,
 "nbformat_minor": 2
}
