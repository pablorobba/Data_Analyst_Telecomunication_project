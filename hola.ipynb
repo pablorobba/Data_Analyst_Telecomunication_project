{
 "cells": [
  {
   "cell_type": "code",
   "execution_count": 5,
   "metadata": {},
   "outputs": [
    {
     "ename": "TypeError",
     "evalue": "initial_value must be str or None, not bytes",
     "output_type": "error",
     "traceback": [
      "\u001b[1;31m---------------------------------------------------------------------------\u001b[0m",
      "\u001b[1;31mTypeError\u001b[0m                                 Traceback (most recent call last)",
      "\u001b[1;32mc:\\Users\\Pablo\\Documents\\Programacion\\4 Henry\\D) Proyectos Individiduales\\2 - Data Analys\\hola.ipynb Cell 1\u001b[0m line \u001b[0;36m1\n\u001b[0;32m     <a href='vscode-notebook-cell:/c%3A/Users/Pablo/Documents/Programacion/4%20Henry/D%29%20Proyectos%20Individiduales/2%20-%20Data%20Analys/hola.ipynb#W0sZmlsZQ%3D%3D?line=12'>13</a>\u001b[0m datos \u001b[39m=\u001b[39m response\u001b[39m.\u001b[39mcontent\n\u001b[0;32m     <a href='vscode-notebook-cell:/c%3A/Users/Pablo/Documents/Programacion/4%20Henry/D%29%20Proyectos%20Individiduales/2%20-%20Data%20Analys/hola.ipynb#W0sZmlsZQ%3D%3D?line=14'>15</a>\u001b[0m \u001b[39m# Abrir en un dataframe\u001b[39;00m\n\u001b[1;32m---> <a href='vscode-notebook-cell:/c%3A/Users/Pablo/Documents/Programacion/4%20Henry/D%29%20Proyectos%20Individiduales/2%20-%20Data%20Analys/hola.ipynb#W0sZmlsZQ%3D%3D?line=16'>17</a>\u001b[0m df \u001b[39m=\u001b[39m pd\u001b[39m.\u001b[39mread_csv(io\u001b[39m.\u001b[39;49mStringIO(datos), encoding\u001b[39m=\u001b[39m\u001b[39m\"\u001b[39m\u001b[39mutf-8\u001b[39m\u001b[39m\"\u001b[39m)\n\u001b[0;32m     <a href='vscode-notebook-cell:/c%3A/Users/Pablo/Documents/Programacion/4%20Henry/D%29%20Proyectos%20Individiduales/2%20-%20Data%20Analys/hola.ipynb#W0sZmlsZQ%3D%3D?line=17'>18</a>\u001b[0m df\n",
      "\u001b[1;31mTypeError\u001b[0m: initial_value must be str or None, not bytes"
     ]
    }
   ],
   "source": [
    "import pandas as pd\n",
    "import  requests\n",
    "import io\n",
    "\n",
    "# Url y Api key\n",
    "url = \"https://datosabiertos.enacom.gob.ar/datasets/176153-accesos-a-banda-ancha-y-banda-angosta-por-provincia.download/\"\n",
    "\n",
    "# Solicitud\n",
    "response = requests.get(url)\n",
    "response\n",
    "\n",
    "# Leer el contenido del archivo CSV en memoria como una cadena de texto\n",
    "datos = response.content\n",
    "\n",
    "# Abrir en un dataframe\n",
    "\n",
    "df = pd.read_csv(io.StringIO(datos), encoding=\"utf-8\")\n",
    "df"
   ]
  }
 ],
 "metadata": {
  "kernelspec": {
   "display_name": "telecomunications",
   "language": "python",
   "name": "python3"
  },
  "language_info": {
   "codemirror_mode": {
    "name": "ipython",
    "version": 3
   },
   "file_extension": ".py",
   "mimetype": "text/x-python",
   "name": "python",
   "nbconvert_exporter": "python",
   "pygments_lexer": "ipython3",
   "version": "3.11.0"
  }
 },
 "nbformat": 4,
 "nbformat_minor": 2
}
